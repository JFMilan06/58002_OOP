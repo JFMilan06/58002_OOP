{
  "nbformat": 4,
  "nbformat_minor": 0,
  "metadata": {
    "colab": {
      "provenance": [],
      "authorship_tag": "ABX9TyMQyFIwQKh+eC4pwIqOblZ1",
      "include_colab_link": true
    },
    "kernelspec": {
      "name": "python3",
      "display_name": "Python 3"
    },
    "language_info": {
      "name": "python"
    }
  },
  "cells": [
    {
      "cell_type": "markdown",
      "metadata": {
        "id": "view-in-github",
        "colab_type": "text"
      },
      "source": [
        "<a href=\"https://colab.research.google.com/github/JFMilan06/58002_OOP/blob/main/Lab_Activity_2.ipynb\" target=\"_parent\"><img src=\"https://colab.research.google.com/assets/colab-badge.svg\" alt=\"Open In Colab\"/></a>"
      ]
    },
    {
      "cell_type": "code",
      "execution_count": 25,
      "metadata": {
        "colab": {
          "base_uri": "https://localhost:8080/"
        },
        "id": "YKP543vbYIMI",
        "outputId": "3a0486a0-d0cd-46a9-a36f-efec2f2886c0"
      },
      "outputs": [
        {
          "output_type": "stream",
          "name": "stdout",
          "text": [
            "14949.54\n",
            "433.32\n",
            "The area of the circle is 14949.54 The perimeter of the circle is 433.32\n",
            "None\n"
          ]
        }
      ],
      "source": [
        "class Circle():\n",
        "  def __init__(self, radius):\n",
        "    self.radius = radius\n",
        "  def area(self):\n",
        "    return self.radius**2*3.14\n",
        "  def perimeter(self):\n",
        "    return 2*self.radius*3.14\n",
        "  def display(self):\n",
        "    print(\"The area of the circle is\",self.area(), \"The perimeter of the circle is\",self.perimeter())\n",
        "\n",
        "circle = Circle(69)\n",
        "print(circle.area())\n",
        "print(circle.perimeter())\n",
        "print(circle.display())"
      ]
    }
  ]
}