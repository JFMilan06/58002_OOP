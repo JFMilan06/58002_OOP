{
  "nbformat": 4,
  "nbformat_minor": 0,
  "metadata": {
    "colab": {
      "provenance": [],
      "include_colab_link": true
    },
    "kernelspec": {
      "name": "python3",
      "display_name": "Python 3"
    },
    "language_info": {
      "name": "python"
    }
  },
  "cells": [
    {
      "cell_type": "markdown",
      "metadata": {
        "id": "view-in-github",
        "colab_type": "text"
      },
      "source": [
        "<a href=\"https://colab.research.google.com/github/JFMilan06/58002_OOP/blob/main/Lab_Activity_2.ipynb\" target=\"_parent\"><img src=\"https://colab.research.google.com/assets/colab-badge.svg\" alt=\"Open In Colab\"/></a>"
      ]
    },
    {
      "cell_type": "code",
      "execution_count": 7,
      "metadata": {
        "colab": {
          "base_uri": "https://localhost:8080/"
        },
        "id": "YKP543vbYIMI",
        "outputId": "4c448ecd-7f9b-406f-f33f-19677a975777"
      },
      "outputs": [
        {
          "output_type": "stream",
          "name": "stdout",
          "text": [
            "input radius:6\n",
            "113.04\n",
            "37.68\n",
            "The area of the circle is 113.04 The perimeter of the circle is 37.68\n",
            "None\n"
          ]
        }
      ],
      "source": [
        "class Circle():\n",
        "  def __init__(self, radius, pi=3.14):\n",
        "    self.radius = radius\n",
        "    self.pi = pi\n",
        "  def Area(self):\n",
        "    return self.radius**2*self.pi\n",
        "  def Perimeter(self):\n",
        "    return 2*self.radius*self.pi\n",
        "  def Display(self):\n",
        "    print(\"The area of the circle is\",self.Area(), \"The perimeter of the circle is\",self.Perimeter())\n",
        "\n",
        "radius = int(input(\"input radius:\"))\n",
        "circle = Circle(radius)\n",
        "print(circle.Area())\n",
        "print(circle.Perimeter())\n",
        "print(circle.Display())"
      ]
    }
  ]
}