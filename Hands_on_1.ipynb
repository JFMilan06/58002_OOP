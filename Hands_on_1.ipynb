{
  "nbformat": 4,
  "nbformat_minor": 0,
  "metadata": {
    "colab": {
      "provenance": [],
      "authorship_tag": "ABX9TyO/teXs+mZ/wJA9p0xnLiEN",
      "include_colab_link": true
    },
    "kernelspec": {
      "name": "python3",
      "display_name": "Python 3"
    },
    "language_info": {
      "name": "python"
    }
  },
  "cells": [
    {
      "cell_type": "markdown",
      "metadata": {
        "id": "view-in-github",
        "colab_type": "text"
      },
      "source": [
        "<a href=\"https://colab.research.google.com/github/JFMilan06/58002_OOP/blob/main/Hands_on_1.ipynb\" target=\"_parent\"><img src=\"https://colab.research.google.com/assets/colab-badge.svg\" alt=\"Open In Colab\"/></a>"
      ]
    },
    {
      "cell_type": "markdown",
      "source": [
        "Hands on No.1\n",
        "create a phyton program that displays the name of the 3 students(Student 1, Student 2, Student 3) and the term grades\n",
        "\n",
        "Create a class name Person and attributes: std1, std2,std3,pre,mid,fin\n",
        "Compute the average of each term grade using Grade() methos\n",
        "information about student grades must be hidden from others"
      ],
      "metadata": {
        "id": "2DgyaNoB-LgK"
      }
    },
    {
      "cell_type": "code",
      "source": [
        "class Person:\n",
        "  def __init__(self,std,pre,mid,fin):\n",
        "    self.__std = std\n",
        "    self.__pre = pre\n",
        "    self.__mid = mid\n",
        "    self.__fin = fin\n",
        "  \n",
        "  def Grade(self):\n",
        "    return (self.__pre + self.__mid + self.__fin)/3\n",
        "  def display(self):\n",
        "    print(f\"{self.__std}'s Grades are {self.__pre} in prelim, {self.__mid} in midterm, {self.__fin} in final, the average is {round(self.Grade(),2)}\")\n",
        "class Student2(Person):\n",
        "  pass\n",
        "class Student3(Person):\n",
        "  pass\n",
        "\n",
        "student1 = Person(\"Student1\",75,77,99)\n",
        "student1.display()\n",
        "student2 = Student2(\"Student2\",88,87,91)\n",
        "student2.display()\n",
        "student3 = Student3(\"Student3\",84,88,89)\n",
        "student3.display()\n",
        "\n",
        "\n"
      ],
      "metadata": {
        "colab": {
          "base_uri": "https://localhost:8080/"
        },
        "id": "t7mmHXwv-8l5",
        "outputId": "21b76ecf-e6cf-4c86-f1de-67aacb6aec5a"
      },
      "execution_count": 19,
      "outputs": [
        {
          "output_type": "stream",
          "name": "stdout",
          "text": [
            "Student1's Grades are 75 in prelim, 77 in midterm, 99 in final, the average is 83.67\n",
            "Student2's Grades are 88 in prelim, 87 in midterm, 91 in final, the average is 88.67\n",
            "Student3's Grades are 84 in prelim, 88 in midterm, 89 in final, the average is 87.0\n"
          ]
        }
      ]
    }
  ]
}