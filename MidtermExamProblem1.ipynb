{
  "nbformat": 4,
  "nbformat_minor": 0,
  "metadata": {
    "colab": {
      "provenance": [],
      "authorship_tag": "ABX9TyPa5UsX1/C1IkzV1bXft4HY",
      "include_colab_link": true
    },
    "kernelspec": {
      "name": "python3",
      "display_name": "Python 3"
    },
    "language_info": {
      "name": "python"
    }
  },
  "cells": [
    {
      "cell_type": "markdown",
      "metadata": {
        "id": "view-in-github",
        "colab_type": "text"
      },
      "source": [
        "<a href=\"https://colab.research.google.com/github/JFMilan06/58002_OOP/blob/main/MidtermExamProblem1.ipynb\" target=\"_parent\"><img src=\"https://colab.research.google.com/assets/colab-badge.svg\" alt=\"Open In Colab\"/></a>"
      ]
    },
    {
      "cell_type": "code",
      "execution_count": 2,
      "metadata": {
        "colab": {
          "base_uri": "https://localhost:8080/"
        },
        "id": "_NypkjM5Rf0s",
        "outputId": "dd42db31-08d7-4fd3-9619-8d592fa3c864"
      },
      "outputs": [
        {
          "output_type": "stream",
          "name": "stdout",
          "text": [
            "input radius:3\n",
            "The area of the circle is28.26\n",
            "the Perimeter of a circle is18.84\n"
          ]
        }
      ],
      "source": [
        "class Circle():\n",
        "  def __init__(self, radius, pi=3.14):\n",
        "    self.radius = radius\n",
        "    self.pi = pi\n",
        "  def Area(self):\n",
        "    return self.radius**2*self.pi\n",
        "  def Perimeter(self):\n",
        "    return 2*self.radius*self.pi\n",
        "\n",
        "radius = int(input(\"input radius:\"))\n",
        "circle = Circle(radius)\n",
        "print(f\"The area of the circle is{circle.Area()}\")\n",
        "print(f\"the Perimeter of a circle is{circle.Perimeter()}\")"
      ]
    }
  ]
}