{
  "nbformat": 4,
  "nbformat_minor": 0,
  "metadata": {
    "colab": {
      "provenance": [],
      "authorship_tag": "ABX9TyPBhSBgm+ttbYwx/tANMZ5R",
      "include_colab_link": true
    },
    "kernelspec": {
      "name": "python3",
      "display_name": "Python 3"
    },
    "language_info": {
      "name": "python"
    }
  },
  "cells": [
    {
      "cell_type": "markdown",
      "metadata": {
        "id": "view-in-github",
        "colab_type": "text"
      },
      "source": [
        "<a href=\"https://colab.research.google.com/github/JFMilan06/58002_OOP/blob/main/Control_Structure.ipynb\" target=\"_parent\"><img src=\"https://colab.research.google.com/assets/colab-badge.svg\" alt=\"Open In Colab\"/></a>"
      ]
    },
    {
      "cell_type": "code",
      "execution_count": 19,
      "metadata": {
        "colab": {
          "base_uri": "https://localhost:8080/"
        },
        "id": "OwMKDCJykvfb",
        "outputId": "b69fc9db-5149-4a92-9502-e070c1a2458e"
      },
      "outputs": [
        {
          "output_type": "stream",
          "name": "stdout",
          "text": [
            "a is greater than b\n"
          ]
        }
      ],
      "source": [
        "#If Statement\n",
        "a=100\n",
        "b=50\n",
        "if a>b:\n",
        "  print(\"a is greater than b\")"
      ]
    },
    {
      "cell_type": "code",
      "source": [
        "#Elif Statement\n",
        "if a<b:\n",
        "  print(\"a is less than b\")\n",
        "elif a>b:\n",
        "  print(\"a is greater than b\")"
      ],
      "metadata": {
        "colab": {
          "base_uri": "https://localhost:8080/"
        },
        "id": "lGIoEH6ZmriN",
        "outputId": "361f8421-c277-4634-af1c-3ce9228d7342"
      },
      "execution_count": 48,
      "outputs": [
        {
          "output_type": "stream",
          "name": "stdout",
          "text": [
            "a is greater than b\n"
          ]
        }
      ]
    },
    {
      "cell_type": "markdown",
      "source": [
        "Short hand if"
      ],
      "metadata": {
        "id": "T_EWd1BCmTNe"
      }
    },
    {
      "cell_type": "code",
      "source": [
        "if a==b: print(\"a is equal to b\")"
      ],
      "metadata": {
        "colab": {
          "base_uri": "https://localhost:8080/"
        },
        "id": "PiYZ-9UVmSz2",
        "outputId": "1ed30767-69a9-4b36-b99c-b02ef3a13f20"
      },
      "execution_count": 16,
      "outputs": [
        {
          "output_type": "stream",
          "name": "stdout",
          "text": [
            "a is equal to b\n"
          ]
        }
      ]
    },
    {
      "cell_type": "markdown",
      "source": [
        "And condition"
      ],
      "metadata": {
        "id": "J33X9xUFn_xv"
      }
    },
    {
      "cell_type": "code",
      "source": [
        "s= 75\n",
        "t = 70\n",
        "if s>t and t<s:\n",
        "  print(\"s > t\")"
      ],
      "metadata": {
        "colab": {
          "base_uri": "https://localhost:8080/"
        },
        "id": "pnH4knNimvNd",
        "outputId": "bbc9f524-93d3-4eff-d9cd-0ca2d3e30dcf"
      },
      "execution_count": 21,
      "outputs": [
        {
          "output_type": "stream",
          "name": "stdout",
          "text": [
            "s > t\n"
          ]
        }
      ]
    },
    {
      "cell_type": "markdown",
      "source": [
        "Or Condition"
      ],
      "metadata": {
        "id": "1rkddBeloQ9G"
      }
    },
    {
      "cell_type": "code",
      "source": [
        "if s>t or t>s:\n",
        "  print(\"s > t\")"
      ],
      "metadata": {
        "colab": {
          "base_uri": "https://localhost:8080/"
        },
        "id": "m0Fu5F4xoie1",
        "outputId": "e7e556dc-9c8a-4167-d10d-b275a98d871e"
      },
      "execution_count": 22,
      "outputs": [
        {
          "output_type": "stream",
          "name": "stdout",
          "text": [
            "s > t\n"
          ]
        }
      ]
    },
    {
      "cell_type": "markdown",
      "source": [
        "Nested If..."
      ],
      "metadata": {
        "id": "726ydBewo0Se"
      }
    },
    {
      "cell_type": "code",
      "source": [
        "x = float(input())\n",
        "if x>10:\n",
        "  print(\"above 10\")\n",
        "  if x>20:\n",
        "    print(\"above 20\")\n",
        "    if x>30:\n",
        "      print(\"above 30\")\n",
        "      if x>40:\n",
        "        print(\"above 40\")\n",
        "        if x>50:\n",
        "          print(\"above 50\")\n",
        "        else: (\"below 50\")\n",
        "      else: print(\"below 40\")\n",
        "    else:\n",
        "      print(\"below 30\")\n",
        "  else:\n",
        "      print(\"below 20\")\n",
        "else:\n",
        "  print(\"below 10\")"
      ],
      "metadata": {
        "colab": {
          "base_uri": "https://localhost:8080/"
        },
        "id": "PhlB2qCIooI1",
        "outputId": "6d10d259-5e6d-4145-bed1-2e5912309af7"
      },
      "execution_count": 44,
      "outputs": [
        {
          "output_type": "stream",
          "name": "stdout",
          "text": [
            "30\n",
            "above 10\n",
            "above 20\n",
            "below 30\n"
          ]
        }
      ]
    },
    {
      "cell_type": "markdown",
      "source": [
        "Example 3"
      ],
      "metadata": {
        "id": "M7mfWhDR1vp1"
      }
    },
    {
      "cell_type": "code",
      "source": [
        "x= int(input())\n",
        "if x>=70 and x<=100:\n",
        "  print(\"Passed\")\n",
        "elif x>65 and x<70:\n",
        "  print(\"Remedial\")\n",
        "elif x<65 and x>=0:\n",
        "  print(\"Fail\")\n",
        "elif x>100:\n",
        "  print(\"Not Accepted\")\n",
        "else:\n",
        "  print(\"Not Accepted\")"
      ],
      "metadata": {
        "colab": {
          "base_uri": "https://localhost:8080/"
        },
        "id": "vHowrSKMs3Dm",
        "outputId": "ccc64ddd-d103-4813-b5f1-883a9b2a1e74"
      },
      "execution_count": 86,
      "outputs": [
        {
          "output_type": "stream",
          "name": "stdout",
          "text": [
            "100\n",
            "Passed\n"
          ]
        }
      ]
    },
    {
      "cell_type": "markdown",
      "source": [
        "Example 1"
      ],
      "metadata": {
        "id": "sd_0MdCm10K8"
      }
    },
    {
      "cell_type": "code",
      "source": [
        "x = int(input())\n",
        "if x>=18:\n",
        "  print(\"Qualified\")\n",
        "else:\n",
        "  print(\"Not Qualified\")"
      ],
      "metadata": {
        "colab": {
          "base_uri": "https://localhost:8080/"
        },
        "id": "EsuwqAOGwGLO",
        "outputId": "4a9003eb-dbb8-47ec-e5b9-2ac360f51169"
      },
      "execution_count": 62,
      "outputs": [
        {
          "output_type": "stream",
          "name": "stdout",
          "text": [
            "34\n",
            "Qualified\n"
          ]
        }
      ]
    },
    {
      "cell_type": "markdown",
      "source": [
        "Example 2"
      ],
      "metadata": {
        "id": "JqYb6-Ir11o8"
      }
    },
    {
      "cell_type": "code",
      "source": [
        "x = int(input())\n",
        "if x>0:\n",
        "  print(\"Positive\")\n",
        "elif x==0:\n",
        "  print(\"Zero\")\n",
        "else:\n",
        "  print(\"Negative\")"
      ],
      "metadata": {
        "colab": {
          "base_uri": "https://localhost:8080/"
        },
        "id": "Hl09ao5zw4M9",
        "outputId": "09312a64-7452-4a4d-f976-1afaf4b1ff23"
      },
      "execution_count": 68,
      "outputs": [
        {
          "output_type": "stream",
          "name": "stdout",
          "text": [
            "2\n",
            "Positive\n"
          ]
        }
      ]
    }
  ]
}