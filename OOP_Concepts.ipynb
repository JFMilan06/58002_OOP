{
  "nbformat": 4,
  "nbformat_minor": 0,
  "metadata": {
    "colab": {
      "provenance": [],
      "authorship_tag": "ABX9TyOaRqDCWWqg7paatfZ8FaXH",
      "include_colab_link": true
    },
    "kernelspec": {
      "name": "python3",
      "display_name": "Python 3"
    },
    "language_info": {
      "name": "python"
    }
  },
  "cells": [
    {
      "cell_type": "markdown",
      "metadata": {
        "id": "view-in-github",
        "colab_type": "text"
      },
      "source": [
        "<a href=\"https://colab.research.google.com/github/JFMilan06/58002_OOP/blob/main/OOP_Concepts.ipynb\" target=\"_parent\"><img src=\"https://colab.research.google.com/assets/colab-badge.svg\" alt=\"Open In Colab\"/></a>"
      ]
    },
    {
      "cell_type": "code",
      "execution_count": 3,
      "metadata": {
        "colab": {
          "base_uri": "https://localhost:8080/"
        },
        "id": "NkqUnbGxQqFe",
        "outputId": "5d59f6f1-f7e6-4411-ce91-e08412ae830a"
      },
      "outputs": [
        {
          "output_type": "stream",
          "name": "stdout",
          "text": [
            "4\n"
          ]
        }
      ],
      "source": [
        "#Creation of Class\n",
        "class myClass:    #name of class\n",
        "  y = 4           #property name\n",
        "p1 = myClass() #create an object named p1\n",
        "print(p1.y)   #print the value of y"
      ]
    },
    {
      "cell_type": "code",
      "source": [
        "class myclass:\n",
        "  pass"
      ],
      "metadata": {
        "id": "fv0rjgrHRvqS"
      },
      "execution_count": null,
      "outputs": []
    },
    {
      "cell_type": "code",
      "source": [
        "class Persons:\n",
        "  def __init__(self,name,age):\n",
        "    self.name = name\n",
        "    self.age = age\n",
        "\n",
        "  def myfunction(self):\n",
        "    print(\"Hello, my name is\", self.name)\n",
        "    \n",
        "teacher = Persons(\"Maria\",40)\n",
        "teacher.myfunction() "
      ],
      "metadata": {
        "colab": {
          "base_uri": "https://localhost:8080/"
        },
        "id": "TaZpLlK6R0TB",
        "outputId": "99393d14-8a8f-40d6-9323-665332cf7881"
      },
      "execution_count": 15,
      "outputs": [
        {
          "output_type": "stream",
          "name": "stdout",
          "text": [
            "Hello, my name is Maria\n"
          ]
        }
      ]
    },
    {
      "cell_type": "code",
      "source": [
        "#Modification of Object Properties\n",
        "teacher.name = \"Anna\"\n",
        "teacher.myfunction()"
      ],
      "metadata": {
        "colab": {
          "base_uri": "https://localhost:8080/"
        },
        "id": "jGphchkLUeV-",
        "outputId": "fe0d2fec-a48c-48fe-d6f3-7479dda639c1"
      },
      "execution_count": 16,
      "outputs": [
        {
          "output_type": "stream",
          "name": "stdout",
          "text": [
            "Hello, my name is Anna\n"
          ]
        }
      ]
    },
    {
      "cell_type": "code",
      "source": [
        "#Deletion of Object Properties\n",
        "del teacher.age\n",
        "print(teacher.name)"
      ],
      "metadata": {
        "colab": {
          "base_uri": "https://localhost:8080/"
        },
        "id": "Hoq7fxQWVAuQ",
        "outputId": "53b33282-4d60-4716-ab0b-b540e4ea9ece"
      },
      "execution_count": 17,
      "outputs": [
        {
          "output_type": "stream",
          "name": "stdout",
          "text": [
            "Anna\n"
          ]
        }
      ]
    },
    {
      "cell_type": "code",
      "source": [
        "class Shapes:\n",
        "  def  __init__(self,side):\n",
        "    self.side = side\n",
        "    \n",
        "  def area(self):\n",
        "    return self.side *self.side\n",
        "  \n",
        "  def display(self):\n",
        "    print(\"The area of the square is\",self.area())\n",
        "\n",
        "square = Shapes(5)\n",
        "print(square.area())\n",
        "print(square.display())\n"
      ],
      "metadata": {
        "colab": {
          "base_uri": "https://localhost:8080/"
        },
        "id": "NYmXACdoVY2_",
        "outputId": "c1ec473e-56ea-4a72-a959-6f63c1e6f352"
      },
      "execution_count": 18,
      "outputs": [
        {
          "output_type": "stream",
          "name": "stdout",
          "text": [
            "25\n",
            "The area of the square is 25\n",
            "None\n"
          ]
        }
      ]
    },
    {
      "cell_type": "code",
      "source": [
        "class Shapes:\n",
        "  def __init__(self,side1,side2):\n",
        "    self.side1 = side1 \n",
        "    self.side2 = side2\n",
        "\n",
        "class Square(Shapes): \n",
        "  def area_square(self): \n",
        "    return self.side1 *self.side1 \n",
        "  def display_square(self): \n",
        "      print(\"The area of square is\", self.area_square())\n",
        "\n",
        "square = Square(4,4)\n",
        "square.display_square() "
      ],
      "metadata": {
        "colab": {
          "base_uri": "https://localhost:8080/"
        },
        "id": "EaRFncxbWjbv",
        "outputId": "de64ee9b-bcef-428a-b872-4e49bc7e3732"
      },
      "execution_count": 1,
      "outputs": [
        {
          "output_type": "stream",
          "name": "stdout",
          "text": [
            "The area of square is 16\n"
          ]
        }
      ]
    },
    {
      "cell_type": "code",
      "source": [
        "class Shapes:\n",
        "  def __init__(self,side1,side2):\n",
        "    self.side1 = side1 \n",
        "    self.side2 = side2\n",
        "\n",
        "class Rectangle(Shapes): \n",
        "  def area_rectangle(self): \n",
        "    return self.side1 *self.side2\n",
        "  def display_rectangle(self): \n",
        "    print(\"The area of rectangle is\", self.area_rectangle())\n",
        "\n",
        "rectangle = Rectangle(10,5)\n",
        "rectangle.display_rectangle()"
      ],
      "metadata": {
        "colab": {
          "base_uri": "https://localhost:8080/"
        },
        "id": "r5RmT_WuYG44",
        "outputId": "86d8394d-6db6-4cbd-82d9-28e4eaf87bac"
      },
      "execution_count": 1,
      "outputs": [
        {
          "output_type": "stream",
          "name": "stdout",
          "text": [
            "The area of rectangle is 50\n"
          ]
        }
      ]
    },
    {
      "cell_type": "code",
      "source": [
        "class Person:\n",
        "  def __init__(self,name,age,school):\n",
        "    self.name = name\n",
        "    self.age = age\n",
        "    self.school = school\n",
        "\n",
        "class JF(Person): \n",
        "  def person(self): \n",
        "    return self.name + self.age + self.school\n",
        "  def display_person(self): \n",
        "    print(\"My name is\", self.person())\n",
        "\n",
        "person = JF(\"John Frederick L. Milan\",\" 19 years old \", \"Studying in Adamson University\")\n",
        "person.display_person()"
      ],
      "metadata": {
        "colab": {
          "base_uri": "https://localhost:8080/"
        },
        "id": "MixtI0aObJ8k",
        "outputId": "14ff6d4b-2256-48af-ac9a-74bbf34f8b53"
      },
      "execution_count": 3,
      "outputs": [
        {
          "output_type": "stream",
          "name": "stdout",
          "text": [
            "My name is John Frederick L. Milan 19 years old Studying in Adamson University\n"
          ]
        }
      ]
    }
  ]
}