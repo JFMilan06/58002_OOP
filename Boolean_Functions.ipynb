{
  "nbformat": 4,
  "nbformat_minor": 0,
  "metadata": {
    "colab": {
      "provenance": [],
      "authorship_tag": "ABX9TyM2NflTE0+ukNNjG+XU6eZ3",
      "include_colab_link": true
    },
    "kernelspec": {
      "name": "python3",
      "display_name": "Python 3"
    },
    "language_info": {
      "name": "python"
    }
  },
  "cells": [
    {
      "cell_type": "markdown",
      "metadata": {
        "id": "view-in-github",
        "colab_type": "text"
      },
      "source": [
        "<a href=\"https://colab.research.google.com/github/JFMilan06/58002_OOP/blob/main/Boolean_Functions.ipynb\" target=\"_parent\"><img src=\"https://colab.research.google.com/assets/colab-badge.svg\" alt=\"Open In Colab\"/></a>"
      ]
    },
    {
      "cell_type": "markdown",
      "source": [
        "Phyton Operators"
      ],
      "metadata": {
        "id": "_3dCRzql4hhL"
      }
    },
    {
      "cell_type": "code",
      "source": [
        "print(10+5)\n",
        "print(10-5)\n",
        "print(10*5)\n",
        "print(10/5)\n",
        "print(10//5)\n",
        "print(10%3)\n",
        "print(10**2)"
      ],
      "metadata": {
        "colab": {
          "base_uri": "https://localhost:8080/"
        },
        "id": "vIhIzUiH4m0R",
        "outputId": "34b85222-294b-4eb6-a1de-68e75e4c12f2"
      },
      "execution_count": 5,
      "outputs": [
        {
          "output_type": "stream",
          "name": "stdout",
          "text": [
            "15\n",
            "5\n",
            "50\n",
            "2.0\n",
            "2\n",
            "1\n",
            "100\n"
          ]
        }
      ]
    },
    {
      "cell_type": "code",
      "source": [
        "#\n",
        "a=60\n",
        "b=13\n",
        "a<<1\n",
        "a>>1"
      ],
      "metadata": {
        "colab": {
          "base_uri": "https://localhost:8080/"
        },
        "id": "FwVdOAL-796p",
        "outputId": "4fdae99a-5e56-4176-dc00-14574419daea"
      },
      "execution_count": 16,
      "outputs": [
        {
          "output_type": "execute_result",
          "data": {
            "text/plain": [
              "30"
            ]
          },
          "metadata": {},
          "execution_count": 16
        }
      ]
    },
    {
      "cell_type": "markdown",
      "source": [
        "Phyton assignment operators"
      ],
      "metadata": {
        "id": "X1_fSfoJ-Gxg"
      }
    },
    {
      "cell_type": "code",
      "source": [
        "x=1\n",
        "x+=3\n",
        "print(x)\n",
        "\n",
        "x=1\n",
        "x-=3\n",
        "print(x)\n",
        "\n",
        "x=1\n",
        "x*=3\n",
        "print(x)\n",
        "\n",
        "x=1\n",
        "x/=3\n",
        "print(x)"
      ],
      "metadata": {
        "colab": {
          "base_uri": "https://localhost:8080/"
        },
        "id": "A52gwBOa-KBg",
        "outputId": "c70cbf7a-5578-4b5a-bd80-38162e516f0b"
      },
      "execution_count": 22,
      "outputs": [
        {
          "output_type": "stream",
          "name": "stdout",
          "text": [
            "4\n",
            "-2\n",
            "3\n",
            "0.3333333333333333\n"
          ]
        }
      ]
    },
    {
      "cell_type": "markdown",
      "source": [
        "Logical Operators"
      ],
      "metadata": {
        "id": "ooIkXOCV_zZo"
      }
    },
    {
      "cell_type": "code",
      "source": [
        "x = True\n",
        "y = False\n",
        "\n",
        "print(x and y)\n",
        "print(x or y)\n",
        "print(not (x or y))"
      ],
      "metadata": {
        "colab": {
          "base_uri": "https://localhost:8080/"
        },
        "id": "gL7SflSq_2Vf",
        "outputId": "c6db5068-5053-490d-bb61-09ea4c50bd8d"
      },
      "execution_count": 30,
      "outputs": [
        {
          "output_type": "stream",
          "name": "stdout",
          "text": [
            "False\n",
            "True\n",
            "False\n"
          ]
        }
      ]
    },
    {
      "cell_type": "markdown",
      "source": [
        "Identity Operators\n"
      ],
      "metadata": {
        "id": "aWqIXgFOBHBe"
      }
    },
    {
      "cell_type": "code",
      "source": [
        "print (x is y)\n",
        "print (x is not y)"
      ],
      "metadata": {
        "colab": {
          "base_uri": "https://localhost:8080/"
        },
        "id": "SuompCQJBJ_m",
        "outputId": "0187edc4-d7e5-4fd9-8265-a076666d9fb0"
      },
      "execution_count": 31,
      "outputs": [
        {
          "output_type": "stream",
          "name": "stdout",
          "text": [
            "False\n",
            "True\n"
          ]
        }
      ]
    },
    {
      "cell_type": "code",
      "source": [
        "s = int(input())\n",
        "t = int(input())\n",
        "\n",
        "print(\"the sum is \",s+t)\n",
        "\n",
        "s=0\n",
        "t=0\n",
        "s = int(input())\n",
        "t = int(input())\n",
        "\n",
        "print(\"the difference is \",s-t)\n",
        "s=0\n",
        "t=0\n",
        "s = int(input())\n",
        "t = int(input())\n",
        "\n",
        "print(\"the product is \",s*t)\n",
        "s=0\n",
        "t=0\n",
        "s = int(input())\n",
        "t = int(input())\n",
        "\n",
        "print(\"the quotient is \",s/t)"
      ],
      "metadata": {
        "colab": {
          "base_uri": "https://localhost:8080/"
        },
        "id": "oJ8rvVIIDIC2",
        "outputId": "095331c6-a9bd-4cf1-fd6c-947842a59af2"
      },
      "execution_count": 63,
      "outputs": [
        {
          "output_type": "stream",
          "name": "stdout",
          "text": [
            "1\n",
            "2\n",
            "the sum is  3\n",
            "3\n",
            "3\n",
            "the difference is  0\n",
            "3\n",
            "3\n",
            "the product is  9\n",
            "3\n",
            "3\n",
            "the quotient is  1.0\n"
          ]
        }
      ]
    }
  ]
}