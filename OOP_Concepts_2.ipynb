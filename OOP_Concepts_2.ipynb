{
  "nbformat": 4,
  "nbformat_minor": 0,
  "metadata": {
    "colab": {
      "provenance": [],
      "authorship_tag": "ABX9TyPn3E5lmo3cba34DPmNtaih",
      "include_colab_link": true
    },
    "kernelspec": {
      "name": "python3",
      "display_name": "Python 3"
    },
    "language_info": {
      "name": "python"
    }
  },
  "cells": [
    {
      "cell_type": "markdown",
      "metadata": {
        "id": "view-in-github",
        "colab_type": "text"
      },
      "source": [
        "<a href=\"https://colab.research.google.com/github/JFMilan06/58002_OOP/blob/main/OOP_Concepts_2.ipynb\" target=\"_parent\"><img src=\"https://colab.research.google.com/assets/colab-badge.svg\" alt=\"Open In Colab\"/></a>"
      ]
    },
    {
      "cell_type": "code",
      "execution_count": null,
      "metadata": {
        "id": "VKFhYO-W74uS"
      },
      "outputs": [],
      "source": [
        "Mangling __"
      ]
    },
    {
      "cell_type": "code",
      "source": [
        "class foo:\n",
        "  def __init__(self,a,b):\n",
        "    self.a =a\n",
        "    self.b = b\n",
        "  def add(self):\n",
        "    return self.a + self.b\n",
        "foo_object = foo(3,4)\n",
        "foo_object.add()"
      ],
      "metadata": {
        "colab": {
          "base_uri": "https://localhost:8080/"
        },
        "id": "AXc1tLJu8KSB",
        "outputId": "451ebee4-3a05-453d-f3ba-9ae8bff22f71"
      },
      "execution_count": 17,
      "outputs": [
        {
          "output_type": "execute_result",
          "data": {
            "text/plain": [
              "7"
            ]
          },
          "metadata": {},
          "execution_count": 17
        }
      ]
    },
    {
      "cell_type": "code",
      "source": [
        "class birds:\n",
        "  def __init__(self,name_birds):\n",
        "    self.name_birds = name_birds\n",
        "  def flying_birds(self):\n",
        "    print(f\"The {self.name_birds} is the flying bird\")\n",
        "  def non_flying_birds(self):\n",
        "    print(f\"The {self.name_birds} is the non flying bird\")\n",
        "\n",
        "eagle = birds(\"Eagle\")\n",
        "chicken = birds(\"Chicken\")\n",
        "eagle.flying_birds()\n",
        "chicken.non_flying_birds()"
      ],
      "metadata": {
        "colab": {
          "base_uri": "https://localhost:8080/"
        },
        "id": "o55CfQvy9Q1h",
        "outputId": "a0ccd746-447d-4390-d9ca-ed20cb1db90b"
      },
      "execution_count": 9,
      "outputs": [
        {
          "output_type": "stream",
          "name": "stdout",
          "text": [
            "The Eagle is the flying bird\n",
            "The Chicken is the non flying bird\n"
          ]
        }
      ]
    },
    {
      "cell_type": "code",
      "source": [
        "#Encapsulation\n",
        "class foo:\n",
        "  def __init__(self,a,b):\n",
        "    self.__a =a\n",
        "    self.__b = b\n",
        "  def add(self):\n",
        "    return self.__a + self.__b\n",
        "foo_object = foo(3,4)\n",
        "foo_object.add()\n",
        "foo_object.a = 7\n",
        "foo_object.b = 6\n",
        "foo_object.add()"
      ],
      "metadata": {
        "colab": {
          "base_uri": "https://localhost:8080/"
        },
        "id": "OmmoJWaK-Z9Q",
        "outputId": "629e4745-70fd-4403-f5de-5792839a7e56"
      },
      "execution_count": 15,
      "outputs": [
        {
          "output_type": "execute_result",
          "data": {
            "text/plain": [
              "7"
            ]
          },
          "metadata": {},
          "execution_count": 15
        }
      ]
    },
    {
      "cell_type": "code",
      "source": [
        "#Inheritance\n",
        "class Person:\n",
        "  def __init__(self,name,birthday):\n",
        "    self.name = name\n",
        "    self.birthday = birthday\n",
        "  def display(self):\n",
        "    print(f\"My name is {self.name}\")\n",
        "    print(f\"My birthday is {self.birthday}\")\n",
        "class Student(Person):\n",
        "  pass\n",
        "person = Person(\"Maria\",\"February 13, 1990\")\n",
        "person.display()\n",
        "\n",
        "student = Student(\"Ana\",\"March 14, 1991\")\n",
        "student.display()"
      ],
      "metadata": {
        "colab": {
          "base_uri": "https://localhost:8080/"
        },
        "id": "tVlRURaoAsSp",
        "outputId": "100e2397-e1c6-4d4c-8b2e-0608eb99dae8"
      },
      "execution_count": 21,
      "outputs": [
        {
          "output_type": "stream",
          "name": "stdout",
          "text": [
            "My name is Maria\n",
            "My birthday is February 13, 1990\n",
            "My name is Ana\n",
            "My birthday is March 14, 1991\n"
          ]
        }
      ]
    },
    {
      "cell_type": "code",
      "source": [
        "class Shapes:\n",
        "  def __init__(self,sides):\n",
        "    self.side = side\n",
        "    \n",
        "  def display(self):\n",
        "    print(f\"My name is {self.name}\")\n",
        "class Student(Person):\n",
        "  pass\n",
        "person = Person(\"Maria\",\"February 13, 1990\")\n",
        "person.display()\n",
        "\n",
        "student = Student(\"Ana\",\"March 14, 1991\")\n",
        "student.display()"
      ],
      "metadata": {
        "id": "g2wyVNNTCzmI"
      },
      "execution_count": null,
      "outputs": []
    },
    {
      "cell_type": "code",
      "source": [
        "class Shapes:\n",
        "  def __init__(self,side):\n",
        "    self.__side = side\n",
        "  def display(self):\n",
        "    print(f\"{self.__side}\")\n",
        "\n",
        "class Triangle(Shapes):\n",
        "  pass\n",
        "class Square(Shapes):\n",
        "  pass\n",
        "class Pentagon(Shapes):\n",
        "  pass\n",
        "class Hexagon(Shapes):\n",
        "  pass\n",
        "class Heptagon(Shapes):\n",
        "  pass\n",
        "shapes = Shapes(\"These are the shapes and their sides\")\n",
        "shapes.display()\n",
        "triangle = Triangle(\"The Triangle has 3 sides\")\n",
        "triangle.display()\n",
        "square = Square(\"The Square has 4 sides\")\n",
        "square.display()\n",
        "pentagon = Pentagon(\"The Pentagon has 5 sides\")\n",
        "pentagon.display()\n",
        "hexagon = Hexagon(\"The Hexagon has 6 sides\")\n",
        "hexagon.display()\n",
        "heptagon = Heptagon(\"The Heptagon has 7 sides\")\n",
        "heptagon.display()\n"
      ],
      "metadata": {
        "colab": {
          "base_uri": "https://localhost:8080/"
        },
        "id": "MF7tveH1EObX",
        "outputId": "b2c4a0b9-b66e-4992-bf8b-08de9ce13476"
      },
      "execution_count": 36,
      "outputs": [
        {
          "output_type": "stream",
          "name": "stdout",
          "text": [
            "These are the shapes and their sides\n",
            "The Triangle has 3 sides\n",
            "The Square has 4 sides\n",
            "The Pentagon has 5 sides\n",
            "The Hexagon has 6 sides\n",
            "The Heptagon has 7 sides\n"
          ]
        }
      ]
    }
  ]
}